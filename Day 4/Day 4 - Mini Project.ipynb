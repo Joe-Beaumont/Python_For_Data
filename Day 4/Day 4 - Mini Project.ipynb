{
 "cells": [
  {
   "cell_type": "code",
   "execution_count": 12,
   "id": "b320e826-26f7-4c76-883e-dc6dbb1c9558",
   "metadata": {},
   "outputs": [
    {
     "data": {
      "text/html": [
       "<div>\n",
       "<style scoped>\n",
       "    .dataframe tbody tr th:only-of-type {\n",
       "        vertical-align: middle;\n",
       "    }\n",
       "\n",
       "    .dataframe tbody tr th {\n",
       "        vertical-align: top;\n",
       "    }\n",
       "\n",
       "    .dataframe thead th {\n",
       "        text-align: right;\n",
       "    }\n",
       "</style>\n",
       "<table border=\"1\" class=\"dataframe\">\n",
       "  <thead>\n",
       "    <tr style=\"text-align: right;\">\n",
       "      <th></th>\n",
       "      <th>Group</th>\n",
       "      <th>Customer_Segment</th>\n",
       "      <th>Sales_Before</th>\n",
       "      <th>Sales_After</th>\n",
       "      <th>Customer_Satisfaction_Before</th>\n",
       "      <th>Customer_Satisfaction_After</th>\n",
       "      <th>Purchase_Made</th>\n",
       "    </tr>\n",
       "  </thead>\n",
       "  <tbody>\n",
       "    <tr>\n",
       "      <th>0</th>\n",
       "      <td>Control</td>\n",
       "      <td>High Value</td>\n",
       "      <td>240.548359</td>\n",
       "      <td>300.007568</td>\n",
       "      <td>74.684767</td>\n",
       "      <td>NaN</td>\n",
       "      <td>No</td>\n",
       "    </tr>\n",
       "    <tr>\n",
       "      <th>1</th>\n",
       "      <td>Treatment</td>\n",
       "      <td>High Value</td>\n",
       "      <td>246.862114</td>\n",
       "      <td>381.337555</td>\n",
       "      <td>100.000000</td>\n",
       "      <td>100.000000</td>\n",
       "      <td>Yes</td>\n",
       "    </tr>\n",
       "    <tr>\n",
       "      <th>2</th>\n",
       "      <td>Control</td>\n",
       "      <td>High Value</td>\n",
       "      <td>156.978084</td>\n",
       "      <td>179.330464</td>\n",
       "      <td>98.780735</td>\n",
       "      <td>100.000000</td>\n",
       "      <td>No</td>\n",
       "    </tr>\n",
       "    <tr>\n",
       "      <th>3</th>\n",
       "      <td>Control</td>\n",
       "      <td>Medium Value</td>\n",
       "      <td>192.126708</td>\n",
       "      <td>229.278031</td>\n",
       "      <td>49.333766</td>\n",
       "      <td>39.811841</td>\n",
       "      <td>Yes</td>\n",
       "    </tr>\n",
       "    <tr>\n",
       "      <th>4</th>\n",
       "      <td>NaN</td>\n",
       "      <td>High Value</td>\n",
       "      <td>229.685623</td>\n",
       "      <td>NaN</td>\n",
       "      <td>83.974852</td>\n",
       "      <td>87.738591</td>\n",
       "      <td>Yes</td>\n",
       "    </tr>\n",
       "  </tbody>\n",
       "</table>\n",
       "</div>"
      ],
      "text/plain": [
       "       Group Customer_Segment  Sales_Before  Sales_After  \\\n",
       "0    Control       High Value    240.548359   300.007568   \n",
       "1  Treatment       High Value    246.862114   381.337555   \n",
       "2    Control       High Value    156.978084   179.330464   \n",
       "3    Control     Medium Value    192.126708   229.278031   \n",
       "4        NaN       High Value    229.685623          NaN   \n",
       "\n",
       "   Customer_Satisfaction_Before  Customer_Satisfaction_After Purchase_Made  \n",
       "0                     74.684767                          NaN            No  \n",
       "1                    100.000000                   100.000000           Yes  \n",
       "2                     98.780735                   100.000000            No  \n",
       "3                     49.333766                    39.811841           Yes  \n",
       "4                     83.974852                    87.738591           Yes  "
      ]
     },
     "execution_count": 12,
     "metadata": {},
     "output_type": "execute_result"
    }
   ],
   "source": [
    "import pandas as pd\n",
    "\n",
    "#1 Setup and load data\n",
    "df = pd.read_csv(\"/sales_with_nans.csv\")\n",
    "\n",
    "df.head()"
   ]
  },
  {
   "cell_type": "code",
   "execution_count": 11,
   "id": "7fb0e0b9-2822-4500-acdf-eedc3ea9a2aa",
   "metadata": {},
   "outputs": [
    {
     "name": "stdout",
     "output_type": "stream",
     "text": [
      "          Group Customer_Segment  Sales_Before  Sales_After  \\\n",
      "0       Control       High Value    240.548359   300.007568   \n",
      "1     Treatment       High Value    246.862114   381.337555   \n",
      "2       Control       High Value    156.978084   179.330464   \n",
      "3       Control     Medium Value    192.126708   229.278031   \n",
      "4           NaN       High Value    229.685623          NaN   \n",
      "...         ...              ...           ...          ...   \n",
      "9995  Treatment              NaN    259.695935   415.181694   \n",
      "9996    Control       High Value    186.488285   216.225457   \n",
      "9997  Treatment        Low Value    208.107142   322.893351   \n",
      "9998  Treatment     Medium Value           NaN   431.974901   \n",
      "9999    Control        Low Value           NaN   124.402398   \n",
      "\n",
      "      Customer_Satisfaction_Before  Customer_Satisfaction_After Purchase_Made  \\\n",
      "0                        74.684767                          NaN            No   \n",
      "1                       100.000000                   100.000000           Yes   \n",
      "2                        98.780735                   100.000000            No   \n",
      "3                        49.333766                    39.811841           Yes   \n",
      "4                        83.974852                    87.738591           Yes   \n",
      "...                            ...                          ...           ...   \n",
      "9995                     88.438776                    98.418593           NaN   \n",
      "9996                     92.261537                   100.000000           NaN   \n",
      "9997                     55.915870                          NaN            No   \n",
      "9998                     66.082462                    81.274030            No   \n",
      "9999                     55.692277                    65.288480           Yes   \n",
      "\n",
      "      Customer_Satisfaction_After_Filled  Sales_After_Filled  \n",
      "0                              50.000000          300.007568  \n",
      "1                             100.000000          381.337555  \n",
      "2                             100.000000          179.330464  \n",
      "3                              39.811841          229.278031  \n",
      "4                              87.738591          280.457952  \n",
      "...                                  ...                 ...  \n",
      "9995                           98.418593          415.181694  \n",
      "9996                          100.000000          216.225457  \n",
      "9997                           50.000000          322.893351  \n",
      "9998                           81.274030          431.974901  \n",
      "9999                           65.288480          124.402398  \n",
      "\n",
      "[10000 rows x 9 columns]\n"
     ]
    }
   ],
   "source": [
    "#df = df.dropna()\n",
    "#df[\"Customer_Satisfaction_After_Filled\"] = df[\"Customer_Satisfaction_After\"].fillna(50)\n",
    "#df[\"Sales_After_Filled\"] = df[\"Sales_After\"].fillna(df[\"Sales_After\"].mean())\n",
    "#print(df)"
   ]
  },
  {
   "cell_type": "code",
   "execution_count": 15,
   "id": "96fd63e4-2267-44f0-a474-5652dc2bc08f",
   "metadata": {},
   "outputs": [
    {
     "name": "stdout",
     "output_type": "stream",
     "text": [
      "1727112.7109819734\n",
      "2589468.2727230373\n"
     ]
    }
   ],
   "source": [
    "#2 basic stats\n",
    "\n",
    "total_sales_before = df[\"Sales_Before\"].sum()\n",
    "print(total_sales_before)\n",
    "total_sales_after = df[\"Sales_After\"].sum()\n",
    "print(total_sales_after)"
   ]
  },
  {
   "cell_type": "code",
   "execution_count": 17,
   "id": "49b83944-6857-4b35-9954-6a711903075c",
   "metadata": {},
   "outputs": [
    {
     "name": "stdout",
     "output_type": "stream",
     "text": [
      "203.71699822858852\n",
      "280.45795220654577\n"
     ]
    }
   ],
   "source": [
    "mean_sales_before = df[\"Sales_Before\"].mean()\n",
    "print(mean_sales_before)\n",
    "mean_sales_after = df[\"Sales_After\"].mean()\n",
    "print(mean_sales_after)"
   ]
  },
  {
   "cell_type": "code",
   "execution_count": 19,
   "id": "267e098a-e995-45aa-a6fc-25d303660fa5",
   "metadata": {},
   "outputs": [
    {
     "name": "stdout",
     "output_type": "stream",
     "text": [
      "70.25207641696215\n",
      "73.87259310735006\n"
     ]
    }
   ],
   "source": [
    "mean_satisfaction_before = df[\"Customer_Satisfaction_Before\"].mean()\n",
    "print(mean_satisfaction_before)\n",
    "mean_satisfaction_after = df[\"Customer_Satisfaction_After\"].mean()\n",
    "print(mean_satisfaction_after)"
   ]
  },
  {
   "cell_type": "code",
   "execution_count": 20,
   "id": "7a9947d3-c192-47a1-aa2e-33cc0d588bdc",
   "metadata": {},
   "outputs": [
    {
     "name": "stdout",
     "output_type": "stream",
     "text": [
      "24.85296575372195\n",
      "545.4225471380589\n",
      "32.414352282538246\n",
      "818.2199974644652\n"
     ]
    }
   ],
   "source": [
    "min_sales_before = df[\"Sales_Before\"].min()\n",
    "print(min_sales_before)\n",
    "max_sales_before = df[\"Sales_Before\"].max()\n",
    "print(max_sales_before)\n",
    "min_sales_after = df[\"Sales_After\"].min()\n",
    "print(min_sales_after)\n",
    "max_sales_after = df[\"Sales_After\"].max()\n",
    "print(max_sales_after)"
   ]
  },
  {
   "cell_type": "code",
   "execution_count": 22,
   "id": "e458e82b-9bff-432a-8f4e-64b667278a71",
   "metadata": {},
   "outputs": [
    {
     "name": "stdout",
     "output_type": "stream",
     "text": [
      "76.74095397795725\n",
      "3.620516690387902\n"
     ]
    }
   ],
   "source": [
    "mean_sales_change = mean_sales_after - mean_sales_before\n",
    "print(mean_sales_change)\n",
    "mean_satisfaction_change = mean_satisfaction_after - mean_satisfaction_before\n",
    "print(mean_satisfaction_change)"
   ]
  },
  {
   "cell_type": "code",
   "execution_count": 30,
   "id": "d2227991-4b01-4af1-af6f-2d264faa6a46",
   "metadata": {},
   "outputs": [
    {
     "name": "stdout",
     "output_type": "stream",
     "text": [
      "          Group Customer_Segment  Sales_Before  Sales_After  \\\n",
      "1     Treatment       High Value    246.862114   381.337555   \n",
      "9     Treatment       High Value    235.071493   352.756872   \n",
      "24    Treatment        Low Value    193.365152   293.183812   \n",
      "25    Treatment     Medium Value    199.897483   317.388436   \n",
      "27    Treatment        Low Value    213.222288   341.428156   \n",
      "...         ...              ...           ...          ...   \n",
      "9971  Treatment       High Value    260.427454   396.690383   \n",
      "9983    Control       High Value    277.432532   324.187457   \n",
      "9984  Treatment       High Value    234.970184   360.308311   \n",
      "9985  Treatment        Low Value    190.882210   300.525743   \n",
      "9992  Treatment     Medium Value    209.913990   320.791145   \n",
      "\n",
      "      Customer_Satisfaction_Before  Customer_Satisfaction_After Purchase_Made  \\\n",
      "1                       100.000000                   100.000000           Yes   \n",
      "9                        72.919851                    70.753225            No   \n",
      "24                       57.827084                    62.875848            No   \n",
      "25                       74.927188                    75.328674            No   \n",
      "27                       45.399793                    46.476301            No   \n",
      "...                            ...                          ...           ...   \n",
      "9971                     77.171031                    81.778631           Yes   \n",
      "9983                     85.397880                    85.598238           Yes   \n",
      "9984                    100.000000                    89.778035           Yes   \n",
      "9985                     51.074736                    56.101875           Yes   \n",
      "9992                     81.851752                    83.163704           Yes   \n",
      "\n",
      "      Customer_Satisfaction_After_Filled  \n",
      "1                             100.000000  \n",
      "9                              70.753225  \n",
      "24                             62.875848  \n",
      "25                             75.328674  \n",
      "27                             46.476301  \n",
      "...                                  ...  \n",
      "9971                           81.778631  \n",
      "9983                           85.598238  \n",
      "9984                           89.778035  \n",
      "9985                           56.101875  \n",
      "9992                           83.163704  \n",
      "\n",
      "[1608 rows x 8 columns]\n",
      "          Group Customer_Segment  Sales_Before  Sales_After  \\\n",
      "1     Treatment       High Value    246.862114   381.337555   \n",
      "2       Control       High Value    156.978084   179.330464   \n",
      "3       Control     Medium Value    192.126708   229.278031   \n",
      "6       Control       High Value    191.713918   222.409356   \n",
      "9     Treatment       High Value    235.071493   352.756872   \n",
      "...         ...              ...           ...          ...   \n",
      "9984  Treatment       High Value    234.970184   360.308311   \n",
      "9985  Treatment        Low Value    190.882210   300.525743   \n",
      "9987  Treatment     Medium Value    164.011355   247.268535   \n",
      "9989    Control     Medium Value    109.386552   145.054224   \n",
      "9992  Treatment     Medium Value    209.913990   320.791145   \n",
      "\n",
      "      Customer_Satisfaction_Before  Customer_Satisfaction_After Purchase_Made  \\\n",
      "1                       100.000000                   100.000000           Yes   \n",
      "2                        98.780735                   100.000000            No   \n",
      "3                        49.333766                    39.811841           Yes   \n",
      "6                        89.967827                    85.120975           Yes   \n",
      "9                        72.919851                    70.753225            No   \n",
      "...                            ...                          ...           ...   \n",
      "9984                    100.000000                    89.778035           Yes   \n",
      "9985                     51.074736                    56.101875           Yes   \n",
      "9987                     64.118872                    75.671792           Yes   \n",
      "9989                     70.249026                    76.630699            No   \n",
      "9992                     81.851752                    83.163704           Yes   \n",
      "\n",
      "      Customer_Satisfaction_After_Filled  \n",
      "1                             100.000000  \n",
      "2                             100.000000  \n",
      "3                              39.811841  \n",
      "6                              85.120975  \n",
      "9                              70.753225  \n",
      "...                                  ...  \n",
      "9984                           89.778035  \n",
      "9985                           56.101875  \n",
      "9987                           75.671792  \n",
      "9989                           76.630699  \n",
      "9992                           83.163704  \n",
      "\n",
      "[3412 rows x 8 columns]\n"
     ]
    },
    {
     "data": {
      "text/plain": [
       "1       Yes\n",
       "2        No\n",
       "3       Yes\n",
       "6       Yes\n",
       "9        No\n",
       "       ... \n",
       "9984    Yes\n",
       "9985    Yes\n",
       "9987    Yes\n",
       "9989     No\n",
       "9992    Yes\n",
       "Name: Purchase_Made, Length: 3412, dtype: object"
      ]
     },
     "execution_count": 30,
     "metadata": {},
     "output_type": "execute_result"
    }
   ],
   "source": [
    "#3 filtering and subsets\n",
    "print(df[df[\"Sales_After\"] > mean_sales_after])\n",
    "print(df[(df[\"Customer_Satisfaction_After\"]) >= 4 & (df[\"Sales_After\"] > 100)])\n",
    "df = df.dropna()\n",
    "df[\"Customer_Satisfaction_After\"].fillna(df[\"Sales_After\"].mean())\n",
    "df[\"Purchase_Made\"].fillna(\"Unknown\")"
   ]
  },
  {
   "cell_type": "code",
   "execution_count": null,
   "id": "e4146f58-bb60-4a47-92c8-e3142363eda4",
   "metadata": {},
   "outputs": [],
   "source": []
  },
  {
   "cell_type": "code",
   "execution_count": null,
   "id": "c1f93cd1-a8f4-471e-a310-956abd0ed3c9",
   "metadata": {},
   "outputs": [],
   "source": []
  },
  {
   "cell_type": "code",
   "execution_count": null,
   "id": "ac5b353e-1047-4bbd-b0c8-9943a5cd18e0",
   "metadata": {},
   "outputs": [],
   "source": []
  }
 ],
 "metadata": {
  "kernelspec": {
   "display_name": "Python 3 (ipykernel)",
   "language": "python",
   "name": "python3"
  },
  "language_info": {
   "codemirror_mode": {
    "name": "ipython",
    "version": 3
   },
   "file_extension": ".py",
   "mimetype": "text/x-python",
   "name": "python",
   "nbconvert_exporter": "python",
   "pygments_lexer": "ipython3",
   "version": "3.12.3"
  }
 },
 "nbformat": 4,
 "nbformat_minor": 5
}
